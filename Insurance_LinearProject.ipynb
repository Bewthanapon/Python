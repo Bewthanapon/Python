{
  "nbformat": 4,
  "nbformat_minor": 0,
  "metadata": {
    "colab": {
      "name": "Insurance LinearProject.ipynb",
      "provenance": [],
      "collapsed_sections": [],
      "toc_visible": true
    },
    "kernelspec": {
      "name": "python3",
      "display_name": "Python 3"
    }
  },
  "cells": [
    {
      "cell_type": "code",
      "metadata": {
        "id": "5oRkoj-fC-5L",
        "colab": {
          "base_uri": "https://localhost:8080/"
        },
        "outputId": "eef0d6e9-8e5e-463b-a908-82bfcfab1bef"
      },
      "source": [
        "from google.colab import drive\n",
        "drive.mount('/content/drive')"
      ],
      "execution_count": null,
      "outputs": [
        {
          "output_type": "stream",
          "name": "stdout",
          "text": [
            "Mounted at /content/drive\n"
          ]
        }
      ]
    },
    {
      "cell_type": "markdown",
      "metadata": {
        "id": "uJXoJDZY9QNI"
      },
      "source": [
        "# นำเข้า Library และ Load ข้อมูล"
      ]
    },
    {
      "cell_type": "code",
      "metadata": {
        "id": "xOaFysD00xF1",
        "colab": {
          "base_uri": "https://localhost:8080/",
          "height": 204
        },
        "outputId": "c94dd5fb-00f8-436a-809c-7fc0adc5f602"
      },
      "source": [
        "import numpy as np\n",
        "import pandas as pd\n",
        "import matplotlib.pyplot as plt\n",
        "import seaborn as sns\n",
        "df=pd.read_csv('/content/drive/MyDrive/Colab Notebooks/K-DAI/ปี 1 เทอม 2/05177001 Linear Algebra for Data Science/PJ_Mid/insurance.csv')\n",
        "#df=pd.read_csv('insurance.csv')\n",
        "df.head()"
      ],
      "execution_count": null,
      "outputs": [
        {
          "output_type": "execute_result",
          "data": {
            "text/html": [
              "<div>\n",
              "<style scoped>\n",
              "    .dataframe tbody tr th:only-of-type {\n",
              "        vertical-align: middle;\n",
              "    }\n",
              "\n",
              "    .dataframe tbody tr th {\n",
              "        vertical-align: top;\n",
              "    }\n",
              "\n",
              "    .dataframe thead th {\n",
              "        text-align: right;\n",
              "    }\n",
              "</style>\n",
              "<table border=\"1\" class=\"dataframe\">\n",
              "  <thead>\n",
              "    <tr style=\"text-align: right;\">\n",
              "      <th></th>\n",
              "      <th>age</th>\n",
              "      <th>sex</th>\n",
              "      <th>bmi</th>\n",
              "      <th>children</th>\n",
              "      <th>smoker</th>\n",
              "      <th>region</th>\n",
              "      <th>charges</th>\n",
              "    </tr>\n",
              "  </thead>\n",
              "  <tbody>\n",
              "    <tr>\n",
              "      <th>0</th>\n",
              "      <td>19</td>\n",
              "      <td>female</td>\n",
              "      <td>27.900</td>\n",
              "      <td>0</td>\n",
              "      <td>yes</td>\n",
              "      <td>southwest</td>\n",
              "      <td>16884.92400</td>\n",
              "    </tr>\n",
              "    <tr>\n",
              "      <th>1</th>\n",
              "      <td>18</td>\n",
              "      <td>male</td>\n",
              "      <td>33.770</td>\n",
              "      <td>1</td>\n",
              "      <td>no</td>\n",
              "      <td>southeast</td>\n",
              "      <td>1725.55230</td>\n",
              "    </tr>\n",
              "    <tr>\n",
              "      <th>2</th>\n",
              "      <td>28</td>\n",
              "      <td>male</td>\n",
              "      <td>33.000</td>\n",
              "      <td>3</td>\n",
              "      <td>no</td>\n",
              "      <td>southeast</td>\n",
              "      <td>4449.46200</td>\n",
              "    </tr>\n",
              "    <tr>\n",
              "      <th>3</th>\n",
              "      <td>33</td>\n",
              "      <td>male</td>\n",
              "      <td>22.705</td>\n",
              "      <td>0</td>\n",
              "      <td>no</td>\n",
              "      <td>northwest</td>\n",
              "      <td>21984.47061</td>\n",
              "    </tr>\n",
              "    <tr>\n",
              "      <th>4</th>\n",
              "      <td>32</td>\n",
              "      <td>male</td>\n",
              "      <td>28.880</td>\n",
              "      <td>0</td>\n",
              "      <td>no</td>\n",
              "      <td>northwest</td>\n",
              "      <td>3866.85520</td>\n",
              "    </tr>\n",
              "  </tbody>\n",
              "</table>\n",
              "</div>"
            ],
            "text/plain": [
              "   age     sex     bmi  children smoker     region      charges\n",
              "0   19  female  27.900         0    yes  southwest  16884.92400\n",
              "1   18    male  33.770         1     no  southeast   1725.55230\n",
              "2   28    male  33.000         3     no  southeast   4449.46200\n",
              "3   33    male  22.705         0     no  northwest  21984.47061\n",
              "4   32    male  28.880         0     no  northwest   3866.85520"
            ]
          },
          "metadata": {},
          "execution_count": 4
        }
      ]
    },
    {
      "cell_type": "markdown",
      "metadata": {
        "id": "_U6LfYxn9YDX"
      },
      "source": [
        "## ตรวจสอบค่า Null"
      ]
    },
    {
      "cell_type": "code",
      "metadata": {
        "id": "OZAUEckT4NPo",
        "colab": {
          "base_uri": "https://localhost:8080/"
        },
        "outputId": "76dcb6f2-d02a-49fe-9118-942b85954d14"
      },
      "source": [
        "df.isnull().sum()"
      ],
      "execution_count": null,
      "outputs": [
        {
          "output_type": "execute_result",
          "data": {
            "text/plain": [
              "age         0\n",
              "sex         0\n",
              "bmi         0\n",
              "children    0\n",
              "smoker      0\n",
              "region      0\n",
              "charges     0\n",
              "dtype: int64"
            ]
          },
          "metadata": {},
          "execution_count": 5
        }
      ]
    },
    {
      "cell_type": "code",
      "metadata": {
        "id": "1RhYztP3MFUk",
        "colab": {
          "base_uri": "https://localhost:8080/"
        },
        "outputId": "512ce8ca-e357-4bd6-c678-cc8cc97afba7"
      },
      "source": [
        "df.shape"
      ],
      "execution_count": null,
      "outputs": [
        {
          "output_type": "execute_result",
          "data": {
            "text/plain": [
              "(1338, 7)"
            ]
          },
          "metadata": {},
          "execution_count": 6
        }
      ]
    },
    {
      "cell_type": "markdown",
      "metadata": {
        "id": "jTiZb4D59u7z"
      },
      "source": [
        "## ตรวจสอบชนิดข้อมูล"
      ]
    },
    {
      "cell_type": "code",
      "metadata": {
        "id": "yhx_27aqX8Vm",
        "colab": {
          "base_uri": "https://localhost:8080/"
        },
        "outputId": "80e60168-0a7b-4e29-d6d1-ce3fd571d342"
      },
      "source": [
        "df.info()"
      ],
      "execution_count": null,
      "outputs": [
        {
          "output_type": "stream",
          "name": "stdout",
          "text": [
            "<class 'pandas.core.frame.DataFrame'>\n",
            "RangeIndex: 1338 entries, 0 to 1337\n",
            "Data columns (total 7 columns):\n",
            " #   Column    Non-Null Count  Dtype  \n",
            "---  ------    --------------  -----  \n",
            " 0   age       1338 non-null   int64  \n",
            " 1   sex       1338 non-null   object \n",
            " 2   bmi       1338 non-null   float64\n",
            " 3   children  1338 non-null   int64  \n",
            " 4   smoker    1338 non-null   object \n",
            " 5   region    1338 non-null   object \n",
            " 6   charges   1338 non-null   float64\n",
            "dtypes: float64(2), int64(2), object(3)\n",
            "memory usage: 73.3+ KB\n"
          ]
        }
      ]
    },
    {
      "cell_type": "markdown",
      "metadata": {
        "id": "cf9ViylH9eN0"
      },
      "source": [
        "## เปลี่ยนข้อมูล categorical  ให้เป็น Dummy"
      ]
    },
    {
      "cell_type": "code",
      "metadata": {
        "id": "7GYSela_7lBU",
        "colab": {
          "base_uri": "https://localhost:8080/"
        },
        "outputId": "7b45a381-fa2d-4955-df3b-867c0ca2a067"
      },
      "source": [
        "df['sex'] = df['sex'].replace('female',0 )\n",
        "df['sex'] = df['sex'].replace('male',1)\n",
        "df['smoker'] = df['smoker'].replace('yes', 1)\n",
        "df['smoker'] = df['smoker'].replace('no', 0)\n",
        "df['region'] = df['region'].replace('northeast', 0)\n",
        "df['region'] = df['region'].replace('northwest', 1)\n",
        "df['region'] = df['region'].replace('southeast', 2)\n",
        "df['region'] = df['region'].replace('southwest', 3)\n",
        "print(df)"
      ],
      "execution_count": null,
      "outputs": [
        {
          "output_type": "stream",
          "name": "stdout",
          "text": [
            "      age  sex     bmi  children  smoker  region      charges\n",
            "0      19    0  27.900         0       1       3  16884.92400\n",
            "1      18    1  33.770         1       0       2   1725.55230\n",
            "2      28    1  33.000         3       0       2   4449.46200\n",
            "3      33    1  22.705         0       0       1  21984.47061\n",
            "4      32    1  28.880         0       0       1   3866.85520\n",
            "...   ...  ...     ...       ...     ...     ...          ...\n",
            "1333   50    1  30.970         3       0       1  10600.54830\n",
            "1334   18    0  31.920         0       0       0   2205.98080\n",
            "1335   18    0  36.850         0       0       2   1629.83350\n",
            "1336   21    0  25.800         0       0       3   2007.94500\n",
            "1337   61    0  29.070         0       1       1  29141.36030\n",
            "\n",
            "[1338 rows x 7 columns]\n"
          ]
        }
      ]
    },
    {
      "cell_type": "code",
      "metadata": {
        "id": "XXcBkE9MDr-F",
        "colab": {
          "base_uri": "https://localhost:8080/",
          "height": 400
        },
        "outputId": "83cacc95-0461-4778-ebc2-36c694f260d0"
      },
      "source": [
        "sns.lmplot(data=df, x='age', y='charges', col='sex', hue='smoker') #scatter + linear plot"
      ],
      "execution_count": null,
      "outputs": [
        {
          "output_type": "execute_result",
          "data": {
            "text/plain": [
              "<seaborn.axisgrid.FacetGrid at 0x7f7d3fc40210>"
            ]
          },
          "metadata": {},
          "execution_count": 9
        },
        {
          "output_type": "display_data",
          "data": {
            "image/png": "[encoded data removed]",
            "text/plain": [
              "<Figure size 764.5x360 with 2 Axes>"
            ]
          },
          "metadata": {
            "needs_background": "light"
          }
        }
      ]
    },
    {
      "cell_type": "markdown",
      "metadata": {
        "id": "a3vGuIOpEeeX"
      },
      "source": [
        "จากข้อมูลที่ได้มา จะสังเกตว่ายิ่งลูกค้าอายุเพิ่มขึ้นก็มีแนวโน้มที่จะจ่ายค่าเบี้ยประกันแพงขึ้น และ คนที่สูบบุหรี่ ก็มีแนวโน้มที่จะจ่ายเบี้ยประกันแพงกว่าคนที่ไม่สูบบุหรี่ เช่นกัน"
      ]
    },
    {
      "cell_type": "code",
      "metadata": {
        "id": "d3EoCzkfEEEn",
        "colab": {
          "base_uri": "https://localhost:8080/",
          "height": 458
        },
        "outputId": "b3bd3315-64e0-4d64-fd14-5c6b16522e5d"
      },
      "source": [
        "sns.jointplot(data=df, x='age', y = 'charges', hue='smoker') #ใช้กรณีดู disribution ของข้อมูล"
      ],
      "execution_count": null,
      "outputs": [
        {
          "output_type": "execute_result",
          "data": {
            "text/plain": [
              "<seaborn.axisgrid.JointGrid at 0x7f7d35ff6d90>"
            ]
          },
          "metadata": {},
          "execution_count": 10
        },
        {
          "output_type": "display_data",
          "data": {
            "image/png": "[encoded data removed]",
            "text/plain": [
              "<Figure size 432x432 with 3 Axes>"
            ]
          },
          "metadata": {
            "needs_background": "light"
          }
        }
      ]
    },
    {
      "cell_type": "markdown",
      "metadata": {
        "id": "zR_KSgGAFG_H"
      },
      "source": [
        "จากข้อมูลที่ได้มา กราฟนี้แสดงถึงความหนาแน่นและการทับซ้อนของข้อมูล จะสังเกตว่าทุกช่วงอายุนั้นจำนวนคนที่ ไม่สูบบุหรี่ นั้นมีจำนวนมากกว่า คนที่สูบบุหรี่ และ จำนวนคนที่ไม่สูบบุหรี่นั้นส่วนใหญ่จะมีแนวโน้มกระจุกตัวอยู่ช่วง เบี้ยประกัน 0 - 15000 ดอลลาร์"
      ]
    },
    {
      "cell_type": "code",
      "metadata": {
        "id": "KcZ2L9b9DbZU",
        "colab": {
          "base_uri": "https://localhost:8080/",
          "height": 676
        },
        "outputId": "9634f1f3-eec4-495e-d5c8-d2c984f05753"
      },
      "source": [
        " g = sns.pairplot(df)\n",
        " g.fig.set_size_inches(9,9)"
      ],
      "execution_count": null,
      "outputs": [
        {
          "output_type": "display_data",
          "data": {
            "image/png": "[encoded data removed]",
            "text/plain": [
              "<Figure size 648x648 with 56 Axes>"
            ]
          },
          "metadata": {
            "needs_background": "light"
          }
        }
      ]
    },
    {
      "cell_type": "markdown",
      "metadata": {
        "id": "4eMCa6bt-H6l"
      },
      "source": [
        "## ดูความสัมพันธ์ของข้อมูล"
      ]
    },
    {
      "cell_type": "code",
      "metadata": {
        "id": "35-Yw5ZVDyZo",
        "colab": {
          "base_uri": "https://localhost:8080/",
          "height": 884
        },
        "outputId": "2fa054bd-fbba-4c0a-e37f-5df1b25deb5f"
      },
      "source": [
        "plt.figure(figsize=(15,15))\n",
        "sns.heatmap(data=df.corr(), annot=True, fmt=\".2f\")"
      ],
      "execution_count": null,
      "outputs": [
        {
          "output_type": "execute_result",
          "data": {
            "text/plain": [
              "<matplotlib.axes._subplots.AxesSubplot at 0x7f7d404b7190>"
            ]
          },
          "metadata": {},
          "execution_count": 12
        },
        {
          "output_type": "display_data",
          "data": {
            "image/png": "[encoded data removed]",
            "text/plain": [
              "<Figure size 1080x1080 with 2 Axes>"
            ]
          },
          "metadata": {
            "needs_background": "light"
          }
        }
      ]
    },
    {
      "cell_type": "code",
      "metadata": {
        "id": "5YIEg-aMEz5i",
        "colab": {
          "base_uri": "https://localhost:8080/"
        },
        "outputId": "442d14ea-b360-4eb5-8839-a0a30f1709ad"
      },
      "source": [
        "df.columns"
      ],
      "execution_count": null,
      "outputs": [
        {
          "output_type": "execute_result",
          "data": {
            "text/plain": [
              "Index(['age', 'sex', 'bmi', 'children', 'smoker', 'region', 'charges'], dtype='object')"
            ]
          },
          "metadata": {},
          "execution_count": 13
        }
      ]
    },
    {
      "cell_type": "markdown",
      "metadata": {
        "id": "xpl3PzWk-ema"
      },
      "source": [
        "## ประกาศตัวแปร x และ y"
      ]
    },
    {
      "cell_type": "code",
      "metadata": {
        "id": "EOLSAC5QEvzU"
      },
      "source": [
        "from sklearn.model_selection import train_test_split\n",
        "x = df.drop(columns=[\"charges\"])\n",
        "y = df[\"charges\"]"
      ],
      "execution_count": null,
      "outputs": []
    },
    {
      "cell_type": "markdown",
      "metadata": {
        "id": "pMYNNsEk-ksx"
      },
      "source": [
        "## ตรวจสอบ MultiCollinearity ที่มีความสัมพันธ์กันเอง > 0.7"
      ]
    },
    {
      "cell_type": "code",
      "metadata": {
        "id": "e_jAi9wsD22C",
        "colab": {
          "base_uri": "https://localhost:8080/"
        },
        "outputId": "3ff8b46f-3770-4eab-f0b7-0320c88113f7"
      },
      "source": [
        "thershold = 0.7\n",
        "corr_mat = x.corr().abs() # ค่าความสัมพันธ์ทางบวก\n",
        "upper = corr_mat.where(np.triu(np.ones(corr_mat.shape), k=1).astype(np.bool)) # ทำสามเหลี่ยมบน ไม่เอา diagonal\n",
        "drop = [column for column in upper.columns if any(upper[column] > thershold)] # เก็บค่าที่มากกว่า thershold\n",
        "print(f\"MultiCollinearity {thershold}: {drop}\")"
      ],
      "execution_count": null,
      "outputs": [
        {
          "output_type": "stream",
          "name": "stdout",
          "text": [
            "MultiCollinearity 0.7: []\n"
          ]
        }
      ]
    },
    {
      "cell_type": "markdown",
      "metadata": {
        "id": "mgt-cypN_APB"
      },
      "source": [
        "## แบ่งข้อมูล Train 70% Test 30%  และ fix ค่าแบ่งให้คงที่"
      ]
    },
    {
      "cell_type": "code",
      "metadata": {
        "id": "If4og8UJFYgs"
      },
      "source": [
        "x_train1, x_test1, y_train1, y_test1 = train_test_split(x, y, test_size=0.3, random_state=100) # train = 70%, test = 30 %, randomstate = fix ค่าตัวแบ่งให้ได้ตัวเดิม"
      ],
      "execution_count": null,
      "outputs": []
    },
    {
      "cell_type": "code",
      "metadata": {
        "id": "zqtpeuofFhGy",
        "colab": {
          "base_uri": "https://localhost:8080/"
        },
        "outputId": "8b03dca1-5667-49af-9f36-9593264a2206"
      },
      "source": [
        "print(x_train1.shape, x_test1.shape, y_train1.shape, y_test1.shape)"
      ],
      "execution_count": null,
      "outputs": [
        {
          "output_type": "stream",
          "name": "stdout",
          "text": [
            "(936, 6) (402, 6) (936,) (402,)\n"
          ]
        }
      ]
    },
    {
      "cell_type": "markdown",
      "metadata": {
        "id": "colBGIm5_UM9"
      },
      "source": [
        "# สร้าง Model 1"
      ]
    },
    {
      "cell_type": "code",
      "metadata": {
        "id": "CDbp5Se9Fj6n"
      },
      "source": [
        "from sklearn.linear_model import LinearRegression\n",
        "LR = LinearRegression() # ย่อชื่อ"
      ],
      "execution_count": null,
      "outputs": []
    },
    {
      "cell_type": "markdown",
      "metadata": {
        "id": "061PvMar_aSI"
      },
      "source": [
        "## ป้อน Input Output ให้ model เรียนรู้"
      ]
    },
    {
      "cell_type": "code",
      "metadata": {
        "id": "ZJmm8pXhFo-M",
        "colab": {
          "base_uri": "https://localhost:8080/"
        },
        "outputId": "fd71629d-2f2e-46df-c23f-991cab38724f"
      },
      "source": [
        "%%time\n",
        "m1 = LR.fit(x_train1, y_train1) # ป้อน Input Output ให้ model เรียนรู้"
      ],
      "execution_count": null,
      "outputs": [
        {
          "output_type": "stream",
          "name": "stdout",
          "text": [
            "CPU times: user 1.83 ms, sys: 2.93 ms, total: 4.76 ms\n",
            "Wall time: 15.3 ms\n"
          ]
        }
      ]
    },
    {
      "cell_type": "code",
      "metadata": {
        "id": "98Cw1_xpF-wF",
        "colab": {
          "base_uri": "https://localhost:8080/"
        },
        "outputId": "a080d23a-7887-406b-dd88-105f0c48fe24"
      },
      "source": [
        "print(m1.coef_)\n",
        "print(m1.intercept_)"
      ],
      "execution_count": null,
      "outputs": [
        {
          "output_type": "stream",
          "name": "stdout",
          "text": [
            "[ 2.59634761e+02 -5.43235302e-02  2.93390832e+02  4.67684029e+02\n",
            "  2.40111697e+04 -4.99424941e+02]\n",
            "-10428.119803691554\n"
          ]
        }
      ]
    },
    {
      "cell_type": "code",
      "metadata": {
        "id": "fJO5NVFPGBwY",
        "colab": {
          "base_uri": "https://localhost:8080/"
        },
        "outputId": "75e96e41-009a-4e6c-c929-015554ee77cc"
      },
      "source": [
        "list(zip(df.columns, m1.coef_)) "
      ],
      "execution_count": null,
      "outputs": [
        {
          "output_type": "execute_result",
          "data": {
            "text/plain": [
              "[('age', 259.63476074356345),\n",
              " ('sex', -0.05432353020813707),\n",
              " ('bmi', 293.3908322847946),\n",
              " ('children', 467.6840290575744),\n",
              " ('smoker', 24011.169706114357),\n",
              " ('region', -499.42494071338626)]"
            ]
          },
          "metadata": {},
          "execution_count": 21
        }
      ]
    },
    {
      "cell_type": "code",
      "metadata": {
        "id": "Qy23tnjERmjN",
        "colab": {
          "base_uri": "https://localhost:8080/"
        },
        "outputId": "32746261-0cf7-49dc-aa9e-9dd9cd4e77af"
      },
      "source": [
        "df.columns"
      ],
      "execution_count": null,
      "outputs": [
        {
          "output_type": "execute_result",
          "data": {
            "text/plain": [
              "Index(['age', 'sex', 'bmi', 'children', 'smoker', 'region', 'charges'], dtype='object')"
            ]
          },
          "metadata": {},
          "execution_count": 22
        }
      ]
    },
    {
      "cell_type": "markdown",
      "metadata": {
        "id": "9BpaykjJ_l2Z"
      },
      "source": [
        "## ทำนายผล y จาก x (train) และ ค่า RMSE"
      ]
    },
    {
      "cell_type": "code",
      "metadata": {
        "id": "KllhGMzRGIEN",
        "colab": {
          "base_uri": "https://localhost:8080/"
        },
        "outputId": "94ed204e-0558-4b5f-df98-2e6bf90da08b"
      },
      "source": [
        "%%time\n",
        "y_train_pred1 = m1.predict(x_train1) # ทำนายผล y_train1 จาก x_train1"
      ],
      "execution_count": null,
      "outputs": [
        {
          "output_type": "stream",
          "name": "stdout",
          "text": [
            "CPU times: user 1.12 ms, sys: 6 µs, total: 1.13 ms\n",
            "Wall time: 1.27 ms\n"
          ]
        }
      ]
    },
    {
      "cell_type": "code",
      "metadata": {
        "id": "JTfcTA6OGKf_"
      },
      "source": [
        "from sklearn.metrics import *\n",
        "from math import sqrt"
      ],
      "execution_count": null,
      "outputs": []
    },
    {
      "cell_type": "code",
      "metadata": {
        "id": "1A9EZ17YGNQy",
        "colab": {
          "base_uri": "https://localhost:8080/"
        },
        "outputId": "0c2cdb13-6a5b-497c-e17e-36775f933aca"
      },
      "source": [
        "mse = mean_squared_error(y_train1, y_train_pred1) # ดูค่า Output เทียบกับ ค่า ทำนาย (train)\n",
        "rmse = sqrt(mse)\n",
        "print(mse)\n",
        "print(rmse)"
      ],
      "execution_count": null,
      "outputs": [
        {
          "output_type": "stream",
          "name": "stdout",
          "text": [
            "38570477.77902456\n",
            "6210.513487548719\n"
          ]
        }
      ]
    },
    {
      "cell_type": "code",
      "metadata": {
        "id": "OF78Y3FEGapU",
        "colab": {
          "base_uri": "https://localhost:8080/"
        },
        "outputId": "8cd6c989-a2f7-4f89-d065-35b2c8c1fbd4"
      },
      "source": [
        "import statsmodels.api as sm\n",
        "x_train1 = sm.add_constant(x_train1)  # เพิ่ม ค่าคงที่ constant เข้ามา\n",
        "m1_train = sm.OLS(y_train1, x_train1).fit() \n",
        "print(m1_train.summary())"
      ],
      "execution_count": null,
      "outputs": [
        {
          "output_type": "stream",
          "name": "stderr",
          "text": [
            "/usr/local/lib/python3.7/dist-packages/statsmodels/tools/_testing.py:19: FutureWarning: pandas.util.testing is deprecated. Use the functions in the public API at pandas.testing instead.\n",
            "  import pandas.util.testing as tm\n"
          ]
        },
        {
          "output_type": "stream",
          "name": "stdout",
          "text": [
            "                            OLS Regression Results                            \n",
            "==============================================================================\n",
            "Dep. Variable:                charges   R-squared:                       0.738\n",
            "Model:                            OLS   Adj. R-squared:                  0.736\n",
            "Method:                 Least Squares   F-statistic:                     435.6\n",
            "Date:                Fri, 17 Sep 2021   Prob (F-statistic):          5.63e-266\n",
            "Time:                        05:29:05   Log-Likelihood:                -9503.1\n",
            "No. Observations:                 936   AIC:                         1.902e+04\n",
            "Df Residuals:                     929   BIC:                         1.905e+04\n",
            "Df Model:                           6                                         \n",
            "Covariance Type:            nonrobust                                         \n",
            "==============================================================================\n",
            "                 coef    std err          t      P>|t|      [0.025      0.975]\n",
            "------------------------------------------------------------------------------\n",
            "const      -1.043e+04   1150.477     -9.064      0.000   -1.27e+04   -8170.286\n",
            "age          259.6348     14.598     17.786      0.000     230.987     288.283\n",
            "sex           -0.0543    408.970     -0.000      1.000    -802.666     802.558\n",
            "bmi          293.3908     33.625      8.725      0.000     227.402     359.380\n",
            "children     467.6840    169.422      2.760      0.006     135.190     800.178\n",
            "smoker      2.401e+04    516.044     46.529      0.000     2.3e+04     2.5e+04\n",
            "region      -499.4249    189.415     -2.637      0.009    -871.156    -127.694\n",
            "==============================================================================\n",
            "Omnibus:                      224.452   Durbin-Watson:                   2.024\n",
            "Prob(Omnibus):                  0.000   Jarque-Bera (JB):              538.473\n",
            "Skew:                           1.272   Prob(JB):                    1.18e-117\n",
            "Kurtosis:                       5.708   Cond. No.                         290.\n",
            "==============================================================================\n",
            "\n",
            "Warnings:\n",
            "[1] Standard Errors assume that the covariance matrix of the errors is correctly specified.\n"
          ]
        }
      ]
    },
    {
      "cell_type": "markdown",
      "metadata": {
        "id": "wGcVrwEn_3oR"
      },
      "source": [
        "## R^2 (train)"
      ]
    },
    {
      "cell_type": "code",
      "metadata": {
        "id": "4kDi9HBbcIko",
        "colab": {
          "base_uri": "https://localhost:8080/"
        },
        "outputId": "5e1939ca-e355-46fa-b5bf-98c73ddb2618"
      },
      "source": [
        "print(f\"R^2 = {m1_train.rsquared*100:.2f} %\")\n",
        "print(f\"Adj R^2 = {m1_train.rsquared_adj*100:.2f} %\")  # Multiple Linear Regression เน้นดู Adjusted R^2 เป็นหลัก (เพราะเมื่อเพิ่ม feature x เยอะๆ ค่า Adj R^2 จะไม่เพิ่มขึ้นเหมือน R^2)"
      ],
      "execution_count": null,
      "outputs": [
        {
          "output_type": "stream",
          "name": "stdout",
          "text": [
            "R^2 = 73.78 %\n",
            "Adj R^2 = 73.61 %\n"
          ]
        }
      ]
    },
    {
      "cell_type": "code",
      "metadata": {
        "id": "R3BnFqrEdlCl",
        "colab": {
          "base_uri": "https://localhost:8080/"
        },
        "outputId": "33c0f7fe-e040-4d77-b1da-8f5c81401201"
      },
      "source": [
        "m1_train.params \n",
        "# สูตร  y = -10428.119804 + 259.634761(age) + -0.054324(sex) + 293.390832(bmi) + 467.684029(children) + 24011.169706(smoker) + -499.424941(region)"
      ],
      "execution_count": null,
      "outputs": [
        {
          "output_type": "execute_result",
          "data": {
            "text/plain": [
              "const      -10428.119804\n",
              "age           259.634761\n",
              "sex            -0.054324\n",
              "bmi           293.390832\n",
              "children      467.684029\n",
              "smoker      24011.169706\n",
              "region       -499.424941\n",
              "dtype: float64"
            ]
          },
          "metadata": {},
          "execution_count": 28
        }
      ]
    },
    {
      "cell_type": "markdown",
      "metadata": {
        "id": "_gcG2rfB_xLy"
      },
      "source": [
        "## ทำนายผล y จาก x (test) และ ค่า RMSE"
      ]
    },
    {
      "cell_type": "code",
      "metadata": {
        "id": "nipGMTYAGpC6",
        "colab": {
          "base_uri": "https://localhost:8080/"
        },
        "outputId": "a2014c61-74c8-4e79-d612-ae47b1d75b98"
      },
      "source": [
        "%%time\n",
        "y_test_pred1 = m1.predict(x_test1) # ทำนายผล x_test"
      ],
      "execution_count": null,
      "outputs": [
        {
          "output_type": "stream",
          "name": "stdout",
          "text": [
            "CPU times: user 1.18 ms, sys: 0 ns, total: 1.18 ms\n",
            "Wall time: 1.35 ms\n"
          ]
        }
      ]
    },
    {
      "cell_type": "code",
      "metadata": {
        "id": "xKD0nZsNGrcs",
        "colab": {
          "base_uri": "https://localhost:8080/"
        },
        "outputId": "341cf6c9-c458-4773-aba9-05c4ee492a4c"
      },
      "source": [
        "mse2 = mean_squared_error(y_test1, y_test_pred1) # ดูค่า Output เทียบกับ ค่า ทำนาย (test)\n",
        "rmse2 = sqrt(mse2)\n",
        "print(mse2)\n",
        "print(rmse2)"
      ],
      "execution_count": null,
      "outputs": [
        {
          "output_type": "stream",
          "name": "stdout",
          "text": [
            "32191230.365719207\n",
            "5673.731608537648\n"
          ]
        }
      ]
    },
    {
      "cell_type": "code",
      "metadata": {
        "id": "9_5BFcGFdvcC",
        "colab": {
          "base_uri": "https://localhost:8080/"
        },
        "outputId": "c310ac9c-bf00-401c-a7fb-9751602e1871"
      },
      "source": [
        "import statsmodels.api as sm\n",
        "x_test1 = sm.add_constant(x_test1)\n",
        "m1_test = sm.OLS(y_test1, x_test1).fit()\n",
        "print(m1_test.summary())"
      ],
      "execution_count": null,
      "outputs": [
        {
          "output_type": "stream",
          "name": "stdout",
          "text": [
            "                            OLS Regression Results                            \n",
            "==============================================================================\n",
            "Dep. Variable:                charges   R-squared:                       0.788\n",
            "Model:                            OLS   Adj. R-squared:                  0.785\n",
            "Method:                 Least Squares   F-statistic:                     244.5\n",
            "Date:                Fri, 17 Sep 2021   Prob (F-statistic):          1.23e-129\n",
            "Time:                        05:29:05   Log-Likelihood:                -4036.3\n",
            "No. Observations:                 402   AIC:                             8087.\n",
            "Df Residuals:                     395   BIC:                             8114.\n",
            "Df Model:                           6                                         \n",
            "Covariance Type:            nonrobust                                         \n",
            "==============================================================================\n",
            "                 coef    std err          t      P>|t|      [0.025      0.975]\n",
            "------------------------------------------------------------------------------\n",
            "const      -1.549e+04   1703.038     -9.094      0.000   -1.88e+04   -1.21e+04\n",
            "age          253.6034     20.194     12.558      0.000     213.902     293.305\n",
            "sex         -472.0860    565.962     -0.834      0.405   -1584.760     640.588\n",
            "bmi          437.3519     48.714      8.978      0.000     341.580     533.123\n",
            "children     540.5804    232.705      2.323      0.021      83.085     998.076\n",
            "smoker      2.362e+04    670.452     35.227      0.000    2.23e+04    2.49e+04\n",
            "region       -30.7810    249.673     -0.123      0.902    -521.635     460.073\n",
            "==============================================================================\n",
            "Omnibus:                       66.585   Durbin-Watson:                   2.002\n",
            "Prob(Omnibus):                  0.000   Jarque-Bera (JB):              127.078\n",
            "Skew:                           0.920   Prob(JB):                     2.54e-28\n",
            "Kurtosis:                       5.050   Cond. No.                         314.\n",
            "==============================================================================\n",
            "\n",
            "Warnings:\n",
            "[1] Standard Errors assume that the covariance matrix of the errors is correctly specified.\n"
          ]
        }
      ]
    },
    {
      "cell_type": "markdown",
      "metadata": {
        "id": "19rPoyezAAH9"
      },
      "source": [
        "## R^2 (test)"
      ]
    },
    {
      "cell_type": "code",
      "metadata": {
        "id": "UB6vrfjid-5X",
        "colab": {
          "base_uri": "https://localhost:8080/"
        },
        "outputId": "83242875-3db2-42e3-fc29-98dfdda873d5"
      },
      "source": [
        "print(f\"R^2 = {m1_test.rsquared*100:.2f} %\")\n",
        "print(f\"Adj R^2 = {m1_test.rsquared_adj*100:.2f} %\")"
      ],
      "execution_count": null,
      "outputs": [
        {
          "output_type": "stream",
          "name": "stdout",
          "text": [
            "R^2 = 78.79 %\n",
            "Adj R^2 = 78.47 %\n"
          ]
        }
      ]
    },
    {
      "cell_type": "code",
      "metadata": {
        "id": "CbCF4nsTedrK",
        "colab": {
          "base_uri": "https://localhost:8080/"
        },
        "outputId": "f008261d-ddf6-44aa-f904-6993923743e6"
      },
      "source": [
        "m1_test.params"
      ],
      "execution_count": null,
      "outputs": [
        {
          "output_type": "execute_result",
          "data": {
            "text/plain": [
              "const      -15487.644191\n",
              "age           253.603398\n",
              "sex          -472.085984\n",
              "bmi           437.351896\n",
              "children      540.580357\n",
              "smoker      23618.109954\n",
              "region        -30.781038\n",
              "dtype: float64"
            ]
          },
          "metadata": {},
          "execution_count": 33
        }
      ]
    },
    {
      "cell_type": "markdown",
      "metadata": {
        "id": "lkrDPQpxHV1Y"
      },
      "source": [
        "# สร้าง MODEL 2"
      ]
    },
    {
      "cell_type": "markdown",
      "metadata": {
        "id": "bMWBqIGiHZmQ"
      },
      "source": [
        "##  กำจัด ตัวแปรที่ไม่มีนัยสำคัญเชิงสติถิ และ Normalization"
      ]
    },
    {
      "cell_type": "code",
      "metadata": {
        "id": "YXPnFKRsIAc7",
        "colab": {
          "base_uri": "https://localhost:8080/",
          "height": 386
        },
        "outputId": "b20d96dc-328b-4550-b81c-e29cb093420f"
      },
      "source": [
        "sns.displot(df[\"bmi\"]) "
      ],
      "execution_count": null,
      "outputs": [
        {
          "output_type": "execute_result",
          "data": {
            "text/plain": [
              "<seaborn.axisgrid.FacetGrid at 0x7f7d1e2e1450>"
            ]
          },
          "metadata": {},
          "execution_count": 34
        },
        {
          "output_type": "display_data",
          "data": {
            "image/png": "[encoded data removed]",
            "text/plain": [
              "<Figure size 360x360 with 1 Axes>"
            ]
          },
          "metadata": {
            "needs_background": "light"
          }
        }
      ]
    },
    {
      "cell_type": "code",
      "metadata": {
        "colab": {
          "base_uri": "https://localhost:8080/"
        },
        "id": "BUXq2AI5p_5Z",
        "outputId": "285a33bd-2d5e-4b88-80f5-b603f4eaff58"
      },
      "source": [
        "df.columns"
      ],
      "execution_count": null,
      "outputs": [
        {
          "output_type": "execute_result",
          "data": {
            "text/plain": [
              "Index(['age', 'sex', 'bmi', 'children', 'smoker', 'region', 'charges'], dtype='object')"
            ]
          },
          "metadata": {},
          "execution_count": 35
        }
      ]
    },
    {
      "cell_type": "markdown",
      "metadata": {
        "id": "a7IUzDavIWEP"
      },
      "source": [
        "กราฟเบ้ขวา "
      ]
    },
    {
      "cell_type": "code",
      "metadata": {
        "id": "4l_t6nKuHsxs",
        "colab": {
          "base_uri": "https://localhost:8080/",
          "height": 350
        },
        "outputId": "dbc10faf-8703-423d-a41a-26ea8af7509f"
      },
      "source": [
        "sns.boxplot(df[\"bmi\"])"
      ],
      "execution_count": null,
      "outputs": [
        {
          "output_type": "stream",
          "name": "stderr",
          "text": [
            "/usr/local/lib/python3.7/dist-packages/seaborn/_decorators.py:43: FutureWarning: Pass the following variable as a keyword arg: x. From version 0.12, the only valid positional argument will be `data`, and passing other arguments without an explicit keyword will result in an error or misinterpretation.\n",
            "  FutureWarning\n"
          ]
        },
        {
          "output_type": "execute_result",
          "data": {
            "text/plain": [
              "<matplotlib.axes._subplots.AxesSubplot at 0x7f7d1e210390>"
            ]
          },
          "metadata": {},
          "execution_count": 36
        },
        {
          "output_type": "display_data",
          "data": {
            "image/png": "[encoded data removed]",
            "text/plain": [
              "<Figure size 432x288 with 1 Axes>"
            ]
          },
          "metadata": {
            "needs_background": "light"
          }
        }
      ]
    },
    {
      "cell_type": "code",
      "metadata": {
        "colab": {
          "base_uri": "https://localhost:8080/",
          "height": 350
        },
        "id": "Vwsw8KXaqXUy",
        "outputId": "07b82f2f-54f4-4f9b-8543-87795b13b9cb"
      },
      "source": [
        "sns.boxplot(df[\"age\"])"
      ],
      "execution_count": null,
      "outputs": [
        {
          "output_type": "stream",
          "name": "stderr",
          "text": [
            "/usr/local/lib/python3.7/dist-packages/seaborn/_decorators.py:43: FutureWarning: Pass the following variable as a keyword arg: x. From version 0.12, the only valid positional argument will be `data`, and passing other arguments without an explicit keyword will result in an error or misinterpretation.\n",
            "  FutureWarning\n"
          ]
        },
        {
          "output_type": "execute_result",
          "data": {
            "text/plain": [
              "<matplotlib.axes._subplots.AxesSubplot at 0x7f7d1e1ee590>"
            ]
          },
          "metadata": {},
          "execution_count": 37
        },
        {
          "output_type": "display_data",
          "data": {
            "image/png": "[encoded data removed]",
            "text/plain": [
              "<Figure size 432x288 with 1 Axes>"
            ]
          },
          "metadata": {
            "needs_background": "light"
          }
        }
      ]
    },
    {
      "cell_type": "code",
      "metadata": {
        "colab": {
          "base_uri": "https://localhost:8080/",
          "height": 350
        },
        "id": "62AqZTBtqYQX",
        "outputId": "76c85662-259f-412e-ad38-0725ae71a37d"
      },
      "source": [
        "sns.boxplot(df[\"sex\"])"
      ],
      "execution_count": null,
      "outputs": [
        {
          "output_type": "stream",
          "name": "stderr",
          "text": [
            "/usr/local/lib/python3.7/dist-packages/seaborn/_decorators.py:43: FutureWarning: Pass the following variable as a keyword arg: x. From version 0.12, the only valid positional argument will be `data`, and passing other arguments without an explicit keyword will result in an error or misinterpretation.\n",
            "  FutureWarning\n"
          ]
        },
        {
          "output_type": "execute_result",
          "data": {
            "text/plain": [
              "<matplotlib.axes._subplots.AxesSubplot at 0x7f7d1e248090>"
            ]
          },
          "metadata": {},
          "execution_count": 38
        },
        {
          "output_type": "display_data",
          "data": {
            "image/png": "[encoded data removed]",
            "text/plain": [
              "<Figure size 432x288 with 1 Axes>"
            ]
          },
          "metadata": {
            "needs_background": "light"
          }
        }
      ]
    },
    {
      "cell_type": "code",
      "metadata": {
        "colab": {
          "base_uri": "https://localhost:8080/",
          "height": 350
        },
        "id": "kkaZs69DqYc6",
        "outputId": "4e32416b-8025-488d-94e9-e00befe4ba8e"
      },
      "source": [
        "sns.boxplot(df[\"children\"])"
      ],
      "execution_count": null,
      "outputs": [
        {
          "output_type": "stream",
          "name": "stderr",
          "text": [
            "/usr/local/lib/python3.7/dist-packages/seaborn/_decorators.py:43: FutureWarning: Pass the following variable as a keyword arg: x. From version 0.12, the only valid positional argument will be `data`, and passing other arguments without an explicit keyword will result in an error or misinterpretation.\n",
            "  FutureWarning\n"
          ]
        },
        {
          "output_type": "execute_result",
          "data": {
            "text/plain": [
              "<matplotlib.axes._subplots.AxesSubplot at 0x7f7d1e0d6dd0>"
            ]
          },
          "metadata": {},
          "execution_count": 39
        },
        {
          "output_type": "display_data",
          "data": {
            "image/png": "[encoded data removed]",
            "text/plain": [
              "<Figure size 432x288 with 1 Axes>"
            ]
          },
          "metadata": {
            "needs_background": "light"
          }
        }
      ]
    },
    {
      "cell_type": "code",
      "metadata": {
        "colab": {
          "base_uri": "https://localhost:8080/",
          "height": 350
        },
        "id": "5GyENIV5qYpD",
        "outputId": "664b52e9-10a8-44e3-e346-004f01640d4f"
      },
      "source": [
        "sns.boxplot(df[\"smoker\"])"
      ],
      "execution_count": null,
      "outputs": [
        {
          "output_type": "stream",
          "name": "stderr",
          "text": [
            "/usr/local/lib/python3.7/dist-packages/seaborn/_decorators.py:43: FutureWarning: Pass the following variable as a keyword arg: x. From version 0.12, the only valid positional argument will be `data`, and passing other arguments without an explicit keyword will result in an error or misinterpretation.\n",
            "  FutureWarning\n"
          ]
        },
        {
          "output_type": "execute_result",
          "data": {
            "text/plain": [
              "<matplotlib.axes._subplots.AxesSubplot at 0x7f7d1e0c71d0>"
            ]
          },
          "metadata": {},
          "execution_count": 40
        },
        {
          "output_type": "display_data",
          "data": {
            "image/png": "[encoded data removed]",
            "text/plain": [
              "<Figure size 432x288 with 1 Axes>"
            ]
          },
          "metadata": {
            "needs_background": "light"
          }
        }
      ]
    },
    {
      "cell_type": "code",
      "metadata": {
        "colab": {
          "base_uri": "https://localhost:8080/",
          "height": 350
        },
        "id": "CDllJwQMqZD3",
        "outputId": "8f035b25-4466-4639-e0b9-f3dba4216fc5"
      },
      "source": [
        "sns.boxplot(df[\"region\"])"
      ],
      "execution_count": null,
      "outputs": [
        {
          "output_type": "stream",
          "name": "stderr",
          "text": [
            "/usr/local/lib/python3.7/dist-packages/seaborn/_decorators.py:43: FutureWarning: Pass the following variable as a keyword arg: x. From version 0.12, the only valid positional argument will be `data`, and passing other arguments without an explicit keyword will result in an error or misinterpretation.\n",
            "  FutureWarning\n"
          ]
        },
        {
          "output_type": "execute_result",
          "data": {
            "text/plain": [
              "<matplotlib.axes._subplots.AxesSubplot at 0x7f7d1e0c78d0>"
            ]
          },
          "metadata": {},
          "execution_count": 41
        },
        {
          "output_type": "display_data",
          "data": {
            "image/png": "[encoded data removed]",
            "text/plain": [
              "<Figure size 432x288 with 1 Axes>"
            ]
          },
          "metadata": {
            "needs_background": "light"
          }
        }
      ]
    },
    {
      "cell_type": "markdown",
      "metadata": {
        "id": "VvxgdyKPIYzx"
      },
      "source": [
        "มี Outlier 1.5*IQR  เป็น Outlier อ่อนๆ และสมัยนี้คนน้ำหนักเกินกว่าเกณฑ์กันเป็นจำนวนมากจึงไม่ควรลบทิ้งไป"
      ]
    },
    {
      "cell_type": "markdown",
      "metadata": {
        "id": "j-hV__u7ITXN"
      },
      "source": [
        ""
      ]
    },
    {
      "cell_type": "code",
      "metadata": {
        "id": "nzqbWGq3IDbp"
      },
      "source": [
        "#q3_label_x3 = df[\"bmi\"].quantile(.75)\n",
        "#q1_label_x3 = df[\"bmi\"].quantile(.25)\n",
        "#IQR_x3 = q3_label_x3 - q1_label_x3\n",
        "#thershold_outlier_max_x3 = q3_label_x3 + 1.5*IQR_x3\n",
        "#thershold_outlier_min_x3 = q1_label_x3 - 1.5*IQR_x3\n",
        "\n",
        "#print(thershold_outlier_min_x3, thershold_outlier_max_x3)"
      ],
      "execution_count": null,
      "outputs": []
    },
    {
      "cell_type": "code",
      "metadata": {
        "id": "MkUEXdyGIOnS"
      },
      "source": [
        "#df_x_out = df[df[\"bmi\"] <= thershold_outlier_max_x3] "
      ],
      "execution_count": null,
      "outputs": []
    },
    {
      "cell_type": "code",
      "metadata": {
        "id": "1AK5npfuMx30"
      },
      "source": [
        "#df_x_out"
      ],
      "execution_count": null,
      "outputs": []
    },
    {
      "cell_type": "code",
      "metadata": {
        "id": "wL0qcEYgMW5f"
      },
      "source": [
        "#df.shape"
      ],
      "execution_count": null,
      "outputs": []
    },
    {
      "cell_type": "code",
      "metadata": {
        "id": "mEfKc1WlMdPd"
      },
      "source": [
        "#sns.boxplot(df_x_out[\"bmi\"])"
      ],
      "execution_count": null,
      "outputs": []
    },
    {
      "cell_type": "code",
      "metadata": {
        "id": "TEq6rw-wMqdi"
      },
      "source": [
        "#sns.displot(df_x_out[\"bmi\"])"
      ],
      "execution_count": null,
      "outputs": []
    },
    {
      "cell_type": "markdown",
      "metadata": {
        "id": "ZrDhGVzbM4I3"
      },
      "source": [
        "## Normalization"
      ]
    },
    {
      "cell_type": "code",
      "metadata": {
        "id": "uuskjCUjMz7w"
      },
      "source": [
        "from sklearn.model_selection import train_test_split\n",
        "#x2 = df_x_out.drop(columns=[\"charges\"])\n",
        "#y2 = df_x_out[\"charges\"]\n",
        "x2 = df.drop(columns=[\"charges\",\"sex\",\"region\"]) # sex, region ค่า P-value  > 0.05\n",
        "y2 = df[\"charges\"]"
      ],
      "execution_count": null,
      "outputs": []
    },
    {
      "cell_type": "code",
      "metadata": {
        "id": "VRIgxMGDOxgF",
        "colab": {
          "base_uri": "https://localhost:8080/"
        },
        "outputId": "6751540f-cdce-47bc-c008-5e451eb4724d"
      },
      "source": [
        "df.columns"
      ],
      "execution_count": null,
      "outputs": [
        {
          "output_type": "execute_result",
          "data": {
            "text/plain": [
              "Index(['age', 'sex', 'bmi', 'children', 'smoker', 'region', 'charges'], dtype='object')"
            ]
          },
          "metadata": {},
          "execution_count": 49
        }
      ]
    },
    {
      "cell_type": "code",
      "metadata": {
        "id": "7XMNi6_wNHrm",
        "colab": {
          "base_uri": "https://localhost:8080/"
        },
        "outputId": "b75f8ca3-0c10-4271-b337-e70d8d01e833"
      },
      "source": [
        "from sklearn.preprocessing import StandardScaler \n",
        "scale = StandardScaler()\n",
        "df_outnorm = scale.fit_transform(x2)  # ทำ Z-score\n",
        "df_outnorm = pd.DataFrame(df_outnorm)\n",
        "print(df_outnorm)"
      ],
      "execution_count": null,
      "outputs": [
        {
          "output_type": "stream",
          "name": "stdout",
          "text": [
            "             0         1         2         3\n",
            "0    -1.438764 -0.453320 -0.908614  1.970587\n",
            "1    -1.509965  0.509621 -0.078767 -0.507463\n",
            "2    -0.797954  0.383307  1.580926 -0.507463\n",
            "3    -0.441948 -1.305531 -0.908614 -0.507463\n",
            "4    -0.513149 -0.292556 -0.908614 -0.507463\n",
            "...        ...       ...       ...       ...\n",
            "1333  0.768473  0.050297  1.580926 -0.507463\n",
            "1334 -1.509965  0.206139 -0.908614 -0.507463\n",
            "1335 -1.509965  1.014878 -0.908614 -0.507463\n",
            "1336 -1.296362 -0.797813 -0.908614 -0.507463\n",
            "1337  1.551686 -0.261388 -0.908614  1.970587\n",
            "\n",
            "[1338 rows x 4 columns]\n"
          ]
        }
      ]
    },
    {
      "cell_type": "code",
      "metadata": {
        "colab": {
          "base_uri": "https://localhost:8080/",
          "height": 419
        },
        "id": "jhGZGHlZ8mo9",
        "outputId": "b9a379a5-69ef-4855-ce34-c298f7b6e0e1"
      },
      "source": [
        "x2"
      ],
      "execution_count": null,
      "outputs": [
        {
          "output_type": "execute_result",
          "data": {
            "text/html": [
              "<div>\n",
              "<style scoped>\n",
              "    .dataframe tbody tr th:only-of-type {\n",
              "        vertical-align: middle;\n",
              "    }\n",
              "\n",
              "    .dataframe tbody tr th {\n",
              "        vertical-align: top;\n",
              "    }\n",
              "\n",
              "    .dataframe thead th {\n",
              "        text-align: right;\n",
              "    }\n",
              "</style>\n",
              "<table border=\"1\" class=\"dataframe\">\n",
              "  <thead>\n",
              "    <tr style=\"text-align: right;\">\n",
              "      <th></th>\n",
              "      <th>age</th>\n",
              "      <th>bmi</th>\n",
              "      <th>children</th>\n",
              "      <th>smoker</th>\n",
              "    </tr>\n",
              "  </thead>\n",
              "  <tbody>\n",
              "    <tr>\n",
              "      <th>0</th>\n",
              "      <td>19</td>\n",
              "      <td>27.900</td>\n",
              "      <td>0</td>\n",
              "      <td>1</td>\n",
              "    </tr>\n",
              "    <tr>\n",
              "      <th>1</th>\n",
              "      <td>18</td>\n",
              "      <td>33.770</td>\n",
              "      <td>1</td>\n",
              "      <td>0</td>\n",
              "    </tr>\n",
              "    <tr>\n",
              "      <th>2</th>\n",
              "      <td>28</td>\n",
              "      <td>33.000</td>\n",
              "      <td>3</td>\n",
              "      <td>0</td>\n",
              "    </tr>\n",
              "    <tr>\n",
              "      <th>3</th>\n",
              "      <td>33</td>\n",
              "      <td>22.705</td>\n",
              "      <td>0</td>\n",
              "      <td>0</td>\n",
              "    </tr>\n",
              "    <tr>\n",
              "      <th>4</th>\n",
              "      <td>32</td>\n",
              "      <td>28.880</td>\n",
              "      <td>0</td>\n",
              "      <td>0</td>\n",
              "    </tr>\n",
              "    <tr>\n",
              "      <th>...</th>\n",
              "      <td>...</td>\n",
              "      <td>...</td>\n",
              "      <td>...</td>\n",
              "      <td>...</td>\n",
              "    </tr>\n",
              "    <tr>\n",
              "      <th>1333</th>\n",
              "      <td>50</td>\n",
              "      <td>30.970</td>\n",
              "      <td>3</td>\n",
              "      <td>0</td>\n",
              "    </tr>\n",
              "    <tr>\n",
              "      <th>1334</th>\n",
              "      <td>18</td>\n",
              "      <td>31.920</td>\n",
              "      <td>0</td>\n",
              "      <td>0</td>\n",
              "    </tr>\n",
              "    <tr>\n",
              "      <th>1335</th>\n",
              "      <td>18</td>\n",
              "      <td>36.850</td>\n",
              "      <td>0</td>\n",
              "      <td>0</td>\n",
              "    </tr>\n",
              "    <tr>\n",
              "      <th>1336</th>\n",
              "      <td>21</td>\n",
              "      <td>25.800</td>\n",
              "      <td>0</td>\n",
              "      <td>0</td>\n",
              "    </tr>\n",
              "    <tr>\n",
              "      <th>1337</th>\n",
              "      <td>61</td>\n",
              "      <td>29.070</td>\n",
              "      <td>0</td>\n",
              "      <td>1</td>\n",
              "    </tr>\n",
              "  </tbody>\n",
              "</table>\n",
              "<p>1338 rows × 4 columns</p>\n",
              "</div>"
            ],
            "text/plain": [
              "      age     bmi  children  smoker\n",
              "0      19  27.900         0       1\n",
              "1      18  33.770         1       0\n",
              "2      28  33.000         3       0\n",
              "3      33  22.705         0       0\n",
              "4      32  28.880         0       0\n",
              "...   ...     ...       ...     ...\n",
              "1333   50  30.970         3       0\n",
              "1334   18  31.920         0       0\n",
              "1335   18  36.850         0       0\n",
              "1336   21  25.800         0       0\n",
              "1337   61  29.070         0       1\n",
              "\n",
              "[1338 rows x 4 columns]"
            ]
          },
          "metadata": {},
          "execution_count": 51
        }
      ]
    },
    {
      "cell_type": "markdown",
      "metadata": {
        "id": "ZeGfxywABDF6"
      },
      "source": [
        "## แบ่งข้อมูล Train 70% Test 30%  และ fix ค่าแบ่งให้คงที่"
      ]
    },
    {
      "cell_type": "code",
      "metadata": {
        "id": "UiCXz6hNPHtF"
      },
      "source": [
        "x_train2, x_test2, y_train2, y_test2 = train_test_split(x2, y2, test_size=0.3, random_state=100)"
      ],
      "execution_count": null,
      "outputs": []
    },
    {
      "cell_type": "code",
      "metadata": {
        "id": "A5C1uQ4RPM-5",
        "colab": {
          "base_uri": "https://localhost:8080/"
        },
        "outputId": "c06cab41-604e-4f9b-b0f7-68fbfde1dae3"
      },
      "source": [
        "print(x_train2.shape, x_test2.shape, y_train2.shape, y_test2.shape)"
      ],
      "execution_count": null,
      "outputs": [
        {
          "output_type": "stream",
          "name": "stdout",
          "text": [
            "(936, 4) (402, 4) (936,) (402,)\n"
          ]
        }
      ]
    },
    {
      "cell_type": "code",
      "metadata": {
        "id": "kZ0srERiPouK"
      },
      "source": [
        "from sklearn.linear_model import LinearRegression\n",
        "LR = LinearRegression()"
      ],
      "execution_count": null,
      "outputs": []
    },
    {
      "cell_type": "markdown",
      "metadata": {
        "id": "vqmLkAOwBK1B"
      },
      "source": [
        "## ป้อน Input Output ให้ model เรียนรู้"
      ]
    },
    {
      "cell_type": "code",
      "metadata": {
        "id": "xcH6CksQRMN2",
        "colab": {
          "base_uri": "https://localhost:8080/"
        },
        "outputId": "0dc4a051-3a7f-4d38-a660-7f3de492ef12"
      },
      "source": [
        "%%time\n",
        "m2 = LR.fit(x_train2, y_train2) # ป้อน Input Output ให้ model เรียนรู้"
      ],
      "execution_count": null,
      "outputs": [
        {
          "output_type": "stream",
          "name": "stdout",
          "text": [
            "CPU times: user 1.96 ms, sys: 919 µs, total: 2.88 ms\n",
            "Wall time: 2.57 ms\n"
          ]
        }
      ]
    },
    {
      "cell_type": "code",
      "metadata": {
        "id": "u-Ioh6hzPyFd",
        "colab": {
          "base_uri": "https://localhost:8080/"
        },
        "outputId": "b4071370-98e9-42aa-b149-9358c22f2b20"
      },
      "source": [
        "print(m2.coef_)\n",
        "print(m2.intercept_)"
      ],
      "execution_count": null,
      "outputs": [
        {
          "output_type": "stream",
          "name": "stdout",
          "text": [
            "[  259.75806744   277.96019232   461.45219356 23983.13622414]\n",
            "-10712.749169376128\n"
          ]
        }
      ]
    },
    {
      "cell_type": "code",
      "metadata": {
        "id": "-ggyMSx3Pzyt",
        "colab": {
          "base_uri": "https://localhost:8080/"
        },
        "outputId": "97274ab2-caa0-4776-fa1b-9035d29260ee"
      },
      "source": [
        "list(zip(x2.columns, m2.coef_))"
      ],
      "execution_count": null,
      "outputs": [
        {
          "output_type": "execute_result",
          "data": {
            "text/plain": [
              "[('age', 259.75806743997003),\n",
              " ('bmi', 277.96019232177173),\n",
              " ('children', 461.4521935555904),\n",
              " ('smoker', 23983.136224135273)]"
            ]
          },
          "metadata": {},
          "execution_count": 57
        }
      ]
    },
    {
      "cell_type": "markdown",
      "metadata": {
        "id": "JvazrLSbBOzJ"
      },
      "source": [
        "## ทำนายผล y จาก x (train) และ ค่า RMSE"
      ]
    },
    {
      "cell_type": "code",
      "metadata": {
        "id": "QKm3_S6aP2b3",
        "colab": {
          "base_uri": "https://localhost:8080/"
        },
        "outputId": "33f6837f-d61c-41f3-cae4-f1e097334f82"
      },
      "source": [
        "%%time\n",
        "y_train_pred2 = m2.predict(x_train2)"
      ],
      "execution_count": null,
      "outputs": [
        {
          "output_type": "stream",
          "name": "stdout",
          "text": [
            "CPU times: user 1.16 ms, sys: 10 µs, total: 1.17 ms\n",
            "Wall time: 1.34 ms\n"
          ]
        }
      ]
    },
    {
      "cell_type": "code",
      "metadata": {
        "id": "iC0fWinqP5hB"
      },
      "source": [
        "from sklearn.metrics import *\n",
        "from math import sqrt"
      ],
      "execution_count": null,
      "outputs": []
    },
    {
      "cell_type": "code",
      "metadata": {
        "id": "RyejtbFXP6iE",
        "colab": {
          "base_uri": "https://localhost:8080/"
        },
        "outputId": "1a963960-e8db-4835-9338-516a06c758b1"
      },
      "source": [
        "mse3 = mean_squared_error(y_train2, y_train_pred2)\n",
        "rmse3 = sqrt(mse3)\n",
        "print(mse3)\n",
        "print(rmse3)"
      ],
      "execution_count": null,
      "outputs": [
        {
          "output_type": "stream",
          "name": "stdout",
          "text": [
            "38859195.71240648\n",
            "6233.714439433882\n"
          ]
        }
      ]
    },
    {
      "cell_type": "code",
      "metadata": {
        "id": "MjOIdqUkbN2Q",
        "colab": {
          "base_uri": "https://localhost:8080/"
        },
        "outputId": "00526328-bc22-4acd-9cad-af15b2a421a7"
      },
      "source": [
        "import statsmodels.api as sm\n",
        "x_train2 = sm.add_constant(x_train2)\n",
        "m2_train = sm.OLS(y_train2, x_train2).fit()\n",
        "print(m2_train.summary())"
      ],
      "execution_count": null,
      "outputs": [
        {
          "output_type": "stream",
          "name": "stdout",
          "text": [
            "                            OLS Regression Results                            \n",
            "==============================================================================\n",
            "Dep. Variable:                charges   R-squared:                       0.736\n",
            "Model:                            OLS   Adj. R-squared:                  0.735\n",
            "Method:                 Least Squares   F-statistic:                     648.2\n",
            "Date:                Fri, 17 Sep 2021   Prob (F-statistic):          2.76e-267\n",
            "Time:                        05:29:07   Log-Likelihood:                -9506.6\n",
            "No. Observations:                 936   AIC:                         1.902e+04\n",
            "Df Residuals:                     931   BIC:                         1.905e+04\n",
            "Df Model:                           4                                         \n",
            "Covariance Type:            nonrobust                                         \n",
            "==============================================================================\n",
            "                 coef    std err          t      P>|t|      [0.025      0.975]\n",
            "------------------------------------------------------------------------------\n",
            "const      -1.071e+04   1138.152     -9.412      0.000   -1.29e+04   -8479.107\n",
            "age          259.7581     14.636     17.747      0.000     231.034     288.482\n",
            "bmi          277.9602     33.172      8.379      0.000     212.861     343.060\n",
            "children     461.4522    169.735      2.719      0.007     128.345     794.560\n",
            "smoker      2.398e+04    516.340     46.448      0.000     2.3e+04     2.5e+04\n",
            "==============================================================================\n",
            "Omnibus:                      222.839   Durbin-Watson:                   2.024\n",
            "Prob(Omnibus):                  0.000   Jarque-Bera (JB):              527.759\n",
            "Skew:                           1.269   Prob(JB):                    2.50e-115\n",
            "Kurtosis:                       5.663   Cond. No.                         286.\n",
            "==============================================================================\n",
            "\n",
            "Warnings:\n",
            "[1] Standard Errors assume that the covariance matrix of the errors is correctly specified.\n"
          ]
        }
      ]
    },
    {
      "cell_type": "markdown",
      "metadata": {
        "id": "B00XzF-IBruE"
      },
      "source": [
        "## R^2 (train)"
      ]
    },
    {
      "cell_type": "code",
      "metadata": {
        "id": "2hnSJCamBiTq",
        "colab": {
          "base_uri": "https://localhost:8080/"
        },
        "outputId": "43571feb-97c7-4aec-d86b-14fd110850f2"
      },
      "source": [
        "print(f\"R^2 = {m2_train.rsquared*100:.2f} %\")\n",
        "print(f\"Adj R^2 = {m2_train.rsquared_adj*100:.2f} %\")"
      ],
      "execution_count": null,
      "outputs": [
        {
          "output_type": "stream",
          "name": "stdout",
          "text": [
            "R^2 = 73.58 %\n",
            "Adj R^2 = 73.47 %\n"
          ]
        }
      ]
    },
    {
      "cell_type": "markdown",
      "metadata": {
        "id": "j-eGp9pdBYKO"
      },
      "source": [
        "## ทำนายผล y จาก x (test) และ ค่า RMSE"
      ]
    },
    {
      "cell_type": "code",
      "metadata": {
        "id": "oJOb6wO_Q05-",
        "colab": {
          "base_uri": "https://localhost:8080/"
        },
        "outputId": "53b5317e-80ec-4c5f-98f8-3d62a3285ce4"
      },
      "source": [
        "%%time\n",
        "y_test_pred2 = m2.predict(x_test2)"
      ],
      "execution_count": null,
      "outputs": [
        {
          "output_type": "stream",
          "name": "stdout",
          "text": [
            "CPU times: user 1.19 ms, sys: 83 µs, total: 1.27 ms\n",
            "Wall time: 1.4 ms\n"
          ]
        }
      ]
    },
    {
      "cell_type": "code",
      "metadata": {
        "id": "4ov-1FbCQMVD",
        "colab": {
          "base_uri": "https://localhost:8080/"
        },
        "outputId": "25ba1541-978a-4ab4-e422-cacbbf66c10b"
      },
      "source": [
        "mse4 = mean_squared_error(y_test2, y_test_pred2)\n",
        "rmse4 = sqrt(mse4)\n",
        "print(mse4)\n",
        "print(rmse4)"
      ],
      "execution_count": null,
      "outputs": [
        {
          "output_type": "stream",
          "name": "stdout",
          "text": [
            "31925237.25654526\n",
            "5650.2422298999945\n"
          ]
        }
      ]
    },
    {
      "cell_type": "markdown",
      "metadata": {
        "id": "-aX0kAotJZSs"
      },
      "source": [
        "เมื่อทำการลบค่า x ที่ไม่มีนัยสำคัญทางสถิติ sex, region และทำ Standardization เปรียบเทียบค่า Adj R^2  = 78.47 % (RMSE = 5673.73) จาก model 1 และ Adj R^2 = 78.54 % (RMSE = 5650.24) จาก model 2"
      ]
    },
    {
      "cell_type": "markdown",
      "metadata": {
        "id": "rLYkq6zUKeP_"
      },
      "source": [
        "เปรียบเทียบเวลา Coding ข้อมูล 1338  records \n",
        "1.  เวลาที่ใช้ใน Model 1 = 3.86 + 1.99 + 1.96 = 7.81 ms\n",
        "2.  เวลาที่ใช้ใน Model 2 = 4.25 + 4.42 + 1.83 = 10.5 ms\n",
        "\n"
      ]
    },
    {
      "cell_type": "markdown",
      "metadata": {
        "id": "E2Iwi_3cN2OL"
      },
      "source": [
        "# สร้าง MODEL 3"
      ]
    },
    {
      "cell_type": "code",
      "metadata": {
        "id": "xQYE9X08OBe8",
        "colab": {
          "base_uri": "https://localhost:8080/"
        },
        "outputId": "22114d5c-0fc0-4626-c734-d105b3d3f823"
      },
      "source": [
        "df.columns"
      ],
      "execution_count": null,
      "outputs": [
        {
          "output_type": "execute_result",
          "data": {
            "text/plain": [
              "Index(['age', 'sex', 'bmi', 'children', 'smoker', 'region', 'charges'], dtype='object')"
            ]
          },
          "metadata": {},
          "execution_count": 65
        }
      ]
    },
    {
      "cell_type": "code",
      "metadata": {
        "id": "y6iYJaTON2YK"
      },
      "source": [
        "from sklearn.model_selection import train_test_split\n",
        "\n",
        "x3 = df.drop(columns=['age', 'sex', 'bmi', 'children', 'region', 'charges']) # smoker มีค่า Correlation สูงที่สุด = 0.79\n",
        "y3 = df[\"charges\"]\n"
      ],
      "execution_count": null,
      "outputs": []
    },
    {
      "cell_type": "markdown",
      "metadata": {
        "id": "dILxvDM3O2rE"
      },
      "source": [
        "## แบ่งข้อมูล Train 70% Test 30%  และ fix ค่าแบ่งให้คงที่"
      ]
    },
    {
      "cell_type": "code",
      "metadata": {
        "id": "P_5bYcdiOvh1"
      },
      "source": [
        "x_train3, x_test3, y_train3, y_test3 = train_test_split(x3, y3, test_size=0.3, random_state=100)"
      ],
      "execution_count": null,
      "outputs": []
    },
    {
      "cell_type": "code",
      "metadata": {
        "id": "EAbBXcl1O0TM",
        "colab": {
          "base_uri": "https://localhost:8080/"
        },
        "outputId": "1e8e180e-0d63-4f50-cfab-fd3060dcc0ef"
      },
      "source": [
        "print(x_train3.shape, x_test3.shape, y_train3.shape, y_test3.shape)"
      ],
      "execution_count": null,
      "outputs": [
        {
          "output_type": "stream",
          "name": "stdout",
          "text": [
            "(936, 1) (402, 1) (936,) (402,)\n"
          ]
        }
      ]
    },
    {
      "cell_type": "code",
      "metadata": {
        "id": "i0LYfeUHTnfc"
      },
      "source": [
        "from sklearn.linear_model import LinearRegression\n",
        "LR = LinearRegression()"
      ],
      "execution_count": null,
      "outputs": []
    },
    {
      "cell_type": "markdown",
      "metadata": {
        "id": "SI_ooAGIVX5Y"
      },
      "source": [
        "## ป้อน Input Output ให้ model เรียนรู้"
      ]
    },
    {
      "cell_type": "code",
      "metadata": {
        "id": "Y_MtwK7KUL7f"
      },
      "source": [
        "m3 = LR.fit(x_train3, y_train3) # ป้อน Input Output ให้ model เรียนรู้"
      ],
      "execution_count": null,
      "outputs": []
    },
    {
      "cell_type": "code",
      "metadata": {
        "id": "f92ceK5LV-Yo",
        "colab": {
          "base_uri": "https://localhost:8080/"
        },
        "outputId": "8db0a4a9-ebec-40de-aa92-9ec584b820d9"
      },
      "source": [
        "print(m3.coef_)\n",
        "print(m3.intercept_)"
      ],
      "execution_count": null,
      "outputs": [
        {
          "output_type": "stream",
          "name": "stdout",
          "text": [
            "[23946.49304499]\n",
            "8512.964143143237\n"
          ]
        }
      ]
    },
    {
      "cell_type": "code",
      "metadata": {
        "colab": {
          "base_uri": "https://localhost:8080/"
        },
        "id": "u4EGTq5iekq6",
        "outputId": "18ffd6e1-8dee-4fb7-8515-c17e4c4ea016"
      },
      "source": [
        "list(zip(x3.columns, m3.coef_))"
      ],
      "execution_count": null,
      "outputs": [
        {
          "output_type": "execute_result",
          "data": {
            "text/plain": [
              "[('smoker', 23946.493044988627)]"
            ]
          },
          "metadata": {},
          "execution_count": 72
        }
      ]
    },
    {
      "cell_type": "markdown",
      "metadata": {
        "id": "is7xsQtbe_vH"
      },
      "source": [
        "## ทำนายผล y จาก x (train) และ ค่า RMSE"
      ]
    },
    {
      "cell_type": "code",
      "metadata": {
        "colab": {
          "base_uri": "https://localhost:8080/"
        },
        "id": "r207eweUeujT",
        "outputId": "64fcf917-bfa4-4034-bef8-4907306433a6"
      },
      "source": [
        "%%time\n",
        "y_train_pred3 = m3.predict(x_train3)"
      ],
      "execution_count": null,
      "outputs": [
        {
          "output_type": "stream",
          "name": "stdout",
          "text": [
            "CPU times: user 977 µs, sys: 0 ns, total: 977 µs\n",
            "Wall time: 1.19 ms\n"
          ]
        }
      ]
    },
    {
      "cell_type": "code",
      "metadata": {
        "id": "3rgs3pSlfAsO"
      },
      "source": [
        "from sklearn.metrics import *\n",
        "from math import sqrt"
      ],
      "execution_count": null,
      "outputs": []
    },
    {
      "cell_type": "code",
      "metadata": {
        "colab": {
          "base_uri": "https://localhost:8080/"
        },
        "id": "TCwVxpxkfEbn",
        "outputId": "906b0e4f-0aaf-417f-fd0a-07de73b72b72"
      },
      "source": [
        "mse5 = mean_squared_error(y_train2, y_train_pred2)\n",
        "rmse5 = sqrt(mse5)\n",
        "print(mse5)\n",
        "print(rmse5)"
      ],
      "execution_count": null,
      "outputs": [
        {
          "output_type": "stream",
          "name": "stdout",
          "text": [
            "38859195.71240648\n",
            "6233.714439433882\n"
          ]
        }
      ]
    },
    {
      "cell_type": "code",
      "metadata": {
        "colab": {
          "base_uri": "https://localhost:8080/"
        },
        "id": "MACzMO0kfZgB",
        "outputId": "f5bb5682-3d8c-4f38-dd91-9004a3ee76ba"
      },
      "source": [
        "import statsmodels.api as sm\n",
        "x_train3 = sm.add_constant(x_train3)\n",
        "m3_train = sm.OLS(y_train3, x_train3).fit()\n",
        "print(m3_train.summary())"
      ],
      "execution_count": null,
      "outputs": [
        {
          "output_type": "stream",
          "name": "stdout",
          "text": [
            "                            OLS Regression Results                            \n",
            "==============================================================================\n",
            "Dep. Variable:                charges   R-squared:                       0.611\n",
            "Model:                            OLS   Adj. R-squared:                  0.610\n",
            "Method:                 Least Squares   F-statistic:                     1465.\n",
            "Date:                Fri, 17 Sep 2021   Prob (F-statistic):          1.60e-193\n",
            "Time:                        05:29:07   Log-Likelihood:                -9688.1\n",
            "No. Observations:                 936   AIC:                         1.938e+04\n",
            "Df Residuals:                     934   BIC:                         1.939e+04\n",
            "Df Model:                           1                                         \n",
            "Covariance Type:            nonrobust                                         \n",
            "==============================================================================\n",
            "                 coef    std err          t      P>|t|      [0.025      0.975]\n",
            "------------------------------------------------------------------------------\n",
            "const       8512.9641    275.884     30.857      0.000    7971.539    9054.389\n",
            "smoker      2.395e+04    625.647     38.275      0.000    2.27e+04    2.52e+04\n",
            "==============================================================================\n",
            "Omnibus:                      105.411   Durbin-Watson:                   2.085\n",
            "Prob(Omnibus):                  0.000   Jarque-Bera (JB):              163.511\n",
            "Skew:                           0.782   Prob(JB):                     3.12e-36\n",
            "Kurtosis:                       4.322   Cond. No.                         2.64\n",
            "==============================================================================\n",
            "\n",
            "Warnings:\n",
            "[1] Standard Errors assume that the covariance matrix of the errors is correctly specified.\n"
          ]
        }
      ]
    },
    {
      "cell_type": "markdown",
      "metadata": {
        "id": "HTg6p1QkgNWG"
      },
      "source": [
        "## R^2 (train)"
      ]
    },
    {
      "cell_type": "code",
      "metadata": {
        "colab": {
          "base_uri": "https://localhost:8080/"
        },
        "id": "XYacweSCfzdE",
        "outputId": "ad095ebc-0bc6-4d28-d6a4-1718589ee44b"
      },
      "source": [
        "print(f\"R^2 = {m3_train.rsquared*100:.2f} %\")\n",
        "print(f\"Adj R^2 = {m3_train.rsquared_adj*100:.2f} %\")"
      ],
      "execution_count": null,
      "outputs": [
        {
          "output_type": "stream",
          "name": "stdout",
          "text": [
            "R^2 = 61.07 %\n",
            "Adj R^2 = 61.02 %\n"
          ]
        }
      ]
    },
    {
      "cell_type": "markdown",
      "metadata": {
        "id": "s4XT2Xpzgdh7"
      },
      "source": [
        "## ทำนายผล y จาก x (test) และ ค่า RMSE"
      ]
    },
    {
      "cell_type": "code",
      "metadata": {
        "colab": {
          "base_uri": "https://localhost:8080/"
        },
        "id": "0R0yzj1RgaLS",
        "outputId": "3cba3e58-c08a-4985-ab61-cfcc2397e77f"
      },
      "source": [
        "%%time\n",
        "y_test_pred3 = m3.predict(x_test3)"
      ],
      "execution_count": null,
      "outputs": [
        {
          "output_type": "stream",
          "name": "stdout",
          "text": [
            "CPU times: user 1.05 ms, sys: 2 µs, total: 1.05 ms\n",
            "Wall time: 1.01 ms\n"
          ]
        }
      ]
    },
    {
      "cell_type": "code",
      "metadata": {
        "colab": {
          "base_uri": "https://localhost:8080/"
        },
        "id": "PKRdrdHif3g6",
        "outputId": "ee22c51c-2a14-4c93-e39e-d56594f3a976"
      },
      "source": [
        "mse6 = mean_squared_error(y_test3, y_test_pred3)\n",
        "rmse6 = sqrt(mse6)\n",
        "print(mse6)\n",
        "print(rmse6)"
      ],
      "execution_count": null,
      "outputs": [
        {
          "output_type": "stream",
          "name": "stdout",
          "text": [
            "52253280.865529776\n",
            "7228.643086052166\n"
          ]
        }
      ]
    },
    {
      "cell_type": "markdown",
      "metadata": {
        "id": "ucL_VpP_ARSX"
      },
      "source": [
        "# L1 - Lasso Regularization"
      ]
    },
    {
      "cell_type": "markdown",
      "metadata": {
        "id": "jnNy_BUxHL7u"
      },
      "source": [
        "feture selection จะตัดตัวแปรที่ไม่สำคัญออกไป สามารถกำหนด ให้ค่า ส.ป.ส. หน้า feature เป็น 0 ได้"
      ]
    },
    {
      "cell_type": "code",
      "metadata": {
        "id": "BzO_--tEAHYL"
      },
      "source": [
        "from sklearn.linear_model import Lasso"
      ],
      "execution_count": null,
      "outputs": []
    },
    {
      "cell_type": "code",
      "metadata": {
        "id": "IxXkY0qfAQ1k"
      },
      "source": [
        "LR_L1 = Lasso() # default alpha = 1"
      ],
      "execution_count": null,
      "outputs": []
    },
    {
      "cell_type": "code",
      "metadata": {
        "id": "NN-MMVK7AsIG",
        "colab": {
          "base_uri": "https://localhost:8080/"
        },
        "outputId": "d4540c61-dc77-4abf-cadf-beac156e8379"
      },
      "source": [
        "%%time\n",
        "m4 = LR_L1.fit(x_train2, y_train2)"
      ],
      "execution_count": null,
      "outputs": [
        {
          "output_type": "stream",
          "name": "stdout",
          "text": [
            "CPU times: user 1.57 ms, sys: 989 µs, total: 2.56 ms\n",
            "Wall time: 3.06 ms\n"
          ]
        }
      ]
    },
    {
      "cell_type": "code",
      "metadata": {
        "id": "sreaC3l6BYiP",
        "colab": {
          "base_uri": "https://localhost:8080/",
          "height": 374
        },
        "outputId": "1f2b5fb4-671f-4a92-93d3-3274b043dbf2"
      },
      "source": [
        "%%time\n",
        "y_test_pred3 = LR_L1.predict(x_test2)"
      ],
      "execution_count": null,
      "outputs": [
        {
          "output_type": "error",
          "ename": "ValueError",
          "evalue": "ignored",
          "traceback": [
            "\u001b[0;31m---------------------------------------------------------------------------\u001b[0m",
            "\u001b[0;31mValueError\u001b[0m                                Traceback (most recent call last)",
            "\u001b[0;32m<ipython-input-84-95c36571f427>\u001b[0m in \u001b[0;36m<module>\u001b[0;34m()\u001b[0m\n\u001b[0;32m----> 1\u001b[0;31m \u001b[0mget_ipython\u001b[0m\u001b[0;34m(\u001b[0m\u001b[0;34m)\u001b[0m\u001b[0;34m.\u001b[0m\u001b[0mrun_cell_magic\u001b[0m\u001b[0;34m(\u001b[0m\u001b[0;34m'time'\u001b[0m\u001b[0;34m,\u001b[0m \u001b[0;34m''\u001b[0m\u001b[0;34m,\u001b[0m \u001b[0;34m'y_test_pred3 = LR_L1.predict(x_test2)'\u001b[0m\u001b[0;34m)\u001b[0m\u001b[0;34m\u001b[0m\u001b[0;34m\u001b[0m\u001b[0m\n\u001b[0m",
            "\u001b[0;32m/usr/local/lib/python3.7/dist-packages/IPython/core/interactiveshell.py\u001b[0m in \u001b[0;36mrun_cell_magic\u001b[0;34m(self, magic_name, line, cell)\u001b[0m\n\u001b[1;32m   2115\u001b[0m             \u001b[0mmagic_arg_s\u001b[0m \u001b[0;34m=\u001b[0m \u001b[0mself\u001b[0m\u001b[0;34m.\u001b[0m\u001b[0mvar_expand\u001b[0m\u001b[0;34m(\u001b[0m\u001b[0mline\u001b[0m\u001b[0;34m,\u001b[0m \u001b[0mstack_depth\u001b[0m\u001b[0;34m)\u001b[0m\u001b[0;34m\u001b[0m\u001b[0;34m\u001b[0m\u001b[0m\n\u001b[1;32m   2116\u001b[0m             \u001b[0;32mwith\u001b[0m \u001b[0mself\u001b[0m\u001b[0;34m.\u001b[0m\u001b[0mbuiltin_trap\u001b[0m\u001b[0;34m:\u001b[0m\u001b[0;34m\u001b[0m\u001b[0;34m\u001b[0m\u001b[0m\n\u001b[0;32m-> 2117\u001b[0;31m                 \u001b[0mresult\u001b[0m \u001b[0;34m=\u001b[0m \u001b[0mfn\u001b[0m\u001b[0;34m(\u001b[0m\u001b[0mmagic_arg_s\u001b[0m\u001b[0;34m,\u001b[0m \u001b[0mcell\u001b[0m\u001b[0;34m)\u001b[0m\u001b[0;34m\u001b[0m\u001b[0;34m\u001b[0m\u001b[0m\n\u001b[0m\u001b[1;32m   2118\u001b[0m             \u001b[0;32mreturn\u001b[0m \u001b[0mresult\u001b[0m\u001b[0;34m\u001b[0m\u001b[0;34m\u001b[0m\u001b[0m\n\u001b[1;32m   2119\u001b[0m \u001b[0;34m\u001b[0m\u001b[0m\n",
            "\u001b[0;32m<decorator-gen-53>\u001b[0m in \u001b[0;36mtime\u001b[0;34m(self, line, cell, local_ns)\u001b[0m\n",
            "\u001b[0;32m/usr/local/lib/python3.7/dist-packages/IPython/core/magic.py\u001b[0m in \u001b[0;36m<lambda>\u001b[0;34m(f, *a, **k)\u001b[0m\n\u001b[1;32m    186\u001b[0m     \u001b[0;31m# but it's overkill for just that one bit of state.\u001b[0m\u001b[0;34m\u001b[0m\u001b[0;34m\u001b[0m\u001b[0;34m\u001b[0m\u001b[0m\n\u001b[1;32m    187\u001b[0m     \u001b[0;32mdef\u001b[0m \u001b[0mmagic_deco\u001b[0m\u001b[0;34m(\u001b[0m\u001b[0marg\u001b[0m\u001b[0;34m)\u001b[0m\u001b[0;34m:\u001b[0m\u001b[0;34m\u001b[0m\u001b[0;34m\u001b[0m\u001b[0m\n\u001b[0;32m--> 188\u001b[0;31m         \u001b[0mcall\u001b[0m \u001b[0;34m=\u001b[0m \u001b[0;32mlambda\u001b[0m \u001b[0mf\u001b[0m\u001b[0;34m,\u001b[0m \u001b[0;34m*\u001b[0m\u001b[0ma\u001b[0m\u001b[0;34m,\u001b[0m \u001b[0;34m**\u001b[0m\u001b[0mk\u001b[0m\u001b[0;34m:\u001b[0m \u001b[0mf\u001b[0m\u001b[0;34m(\u001b[0m\u001b[0;34m*\u001b[0m\u001b[0ma\u001b[0m\u001b[0;34m,\u001b[0m \u001b[0;34m**\u001b[0m\u001b[0mk\u001b[0m\u001b[0;34m)\u001b[0m\u001b[0;34m\u001b[0m\u001b[0;34m\u001b[0m\u001b[0m\n\u001b[0m\u001b[1;32m    189\u001b[0m \u001b[0;34m\u001b[0m\u001b[0m\n\u001b[1;32m    190\u001b[0m         \u001b[0;32mif\u001b[0m \u001b[0mcallable\u001b[0m\u001b[0;34m(\u001b[0m\u001b[0marg\u001b[0m\u001b[0;34m)\u001b[0m\u001b[0;34m:\u001b[0m\u001b[0;34m\u001b[0m\u001b[0;34m\u001b[0m\u001b[0m\n",
            "\u001b[0;32m/usr/local/lib/python3.7/dist-packages/IPython/core/magics/execution.py\u001b[0m in \u001b[0;36mtime\u001b[0;34m(self, line, cell, local_ns)\u001b[0m\n\u001b[1;32m   1191\u001b[0m         \u001b[0;32melse\u001b[0m\u001b[0;34m:\u001b[0m\u001b[0;34m\u001b[0m\u001b[0;34m\u001b[0m\u001b[0m\n\u001b[1;32m   1192\u001b[0m             \u001b[0mst\u001b[0m \u001b[0;34m=\u001b[0m \u001b[0mclock2\u001b[0m\u001b[0;34m(\u001b[0m\u001b[0;34m)\u001b[0m\u001b[0;34m\u001b[0m\u001b[0;34m\u001b[0m\u001b[0m\n\u001b[0;32m-> 1193\u001b[0;31m             \u001b[0mexec\u001b[0m\u001b[0;34m(\u001b[0m\u001b[0mcode\u001b[0m\u001b[0;34m,\u001b[0m \u001b[0mglob\u001b[0m\u001b[0;34m,\u001b[0m \u001b[0mlocal_ns\u001b[0m\u001b[0;34m)\u001b[0m\u001b[0;34m\u001b[0m\u001b[0;34m\u001b[0m\u001b[0m\n\u001b[0m\u001b[1;32m   1194\u001b[0m             \u001b[0mend\u001b[0m \u001b[0;34m=\u001b[0m \u001b[0mclock2\u001b[0m\u001b[0;34m(\u001b[0m\u001b[0;34m)\u001b[0m\u001b[0;34m\u001b[0m\u001b[0;34m\u001b[0m\u001b[0m\n\u001b[1;32m   1195\u001b[0m             \u001b[0mout\u001b[0m \u001b[0;34m=\u001b[0m \u001b[0;32mNone\u001b[0m\u001b[0;34m\u001b[0m\u001b[0;34m\u001b[0m\u001b[0m\n",
            "\u001b[0;32m<timed exec>\u001b[0m in \u001b[0;36m<module>\u001b[0;34m()\u001b[0m\n",
            "\u001b[0;32m/usr/local/lib/python3.7/dist-packages/sklearn/linear_model/_base.py\u001b[0m in \u001b[0;36mpredict\u001b[0;34m(self, X)\u001b[0m\n\u001b[1;32m    223\u001b[0m             \u001b[0mReturns\u001b[0m \u001b[0mpredicted\u001b[0m \u001b[0mvalues\u001b[0m\u001b[0;34m.\u001b[0m\u001b[0;34m\u001b[0m\u001b[0;34m\u001b[0m\u001b[0m\n\u001b[1;32m    224\u001b[0m         \"\"\"\n\u001b[0;32m--> 225\u001b[0;31m         \u001b[0;32mreturn\u001b[0m \u001b[0mself\u001b[0m\u001b[0;34m.\u001b[0m\u001b[0m_decision_function\u001b[0m\u001b[0;34m(\u001b[0m\u001b[0mX\u001b[0m\u001b[0;34m)\u001b[0m\u001b[0;34m\u001b[0m\u001b[0;34m\u001b[0m\u001b[0m\n\u001b[0m\u001b[1;32m    226\u001b[0m \u001b[0;34m\u001b[0m\u001b[0m\n\u001b[1;32m    227\u001b[0m     \u001b[0m_preprocess_data\u001b[0m \u001b[0;34m=\u001b[0m \u001b[0mstaticmethod\u001b[0m\u001b[0;34m(\u001b[0m\u001b[0m_preprocess_data\u001b[0m\u001b[0;34m)\u001b[0m\u001b[0;34m\u001b[0m\u001b[0;34m\u001b[0m\u001b[0m\n",
            "\u001b[0;32m/usr/local/lib/python3.7/dist-packages/sklearn/linear_model/_coordinate_descent.py\u001b[0m in \u001b[0;36m_decision_function\u001b[0;34m(self, X)\u001b[0m\n\u001b[1;32m    792\u001b[0m                                    dense_output=True) + self.intercept_\n\u001b[1;32m    793\u001b[0m         \u001b[0;32melse\u001b[0m\u001b[0;34m:\u001b[0m\u001b[0;34m\u001b[0m\u001b[0;34m\u001b[0m\u001b[0m\n\u001b[0;32m--> 794\u001b[0;31m             \u001b[0;32mreturn\u001b[0m \u001b[0msuper\u001b[0m\u001b[0;34m(\u001b[0m\u001b[0;34m)\u001b[0m\u001b[0;34m.\u001b[0m\u001b[0m_decision_function\u001b[0m\u001b[0;34m(\u001b[0m\u001b[0mX\u001b[0m\u001b[0;34m)\u001b[0m\u001b[0;34m\u001b[0m\u001b[0;34m\u001b[0m\u001b[0m\n\u001b[0m\u001b[1;32m    795\u001b[0m \u001b[0;34m\u001b[0m\u001b[0m\n\u001b[1;32m    796\u001b[0m \u001b[0;34m\u001b[0m\u001b[0m\n",
            "\u001b[0;32m/usr/local/lib/python3.7/dist-packages/sklearn/linear_model/_base.py\u001b[0m in \u001b[0;36m_decision_function\u001b[0;34m(self, X)\u001b[0m\n\u001b[1;32m    207\u001b[0m         \u001b[0mX\u001b[0m \u001b[0;34m=\u001b[0m \u001b[0mcheck_array\u001b[0m\u001b[0;34m(\u001b[0m\u001b[0mX\u001b[0m\u001b[0;34m,\u001b[0m \u001b[0maccept_sparse\u001b[0m\u001b[0;34m=\u001b[0m\u001b[0;34m[\u001b[0m\u001b[0;34m'csr'\u001b[0m\u001b[0;34m,\u001b[0m \u001b[0;34m'csc'\u001b[0m\u001b[0;34m,\u001b[0m \u001b[0;34m'coo'\u001b[0m\u001b[0;34m]\u001b[0m\u001b[0;34m)\u001b[0m\u001b[0;34m\u001b[0m\u001b[0;34m\u001b[0m\u001b[0m\n\u001b[1;32m    208\u001b[0m         return safe_sparse_dot(X, self.coef_.T,\n\u001b[0;32m--> 209\u001b[0;31m                                dense_output=True) + self.intercept_\n\u001b[0m\u001b[1;32m    210\u001b[0m \u001b[0;34m\u001b[0m\u001b[0m\n\u001b[1;32m    211\u001b[0m     \u001b[0;32mdef\u001b[0m \u001b[0mpredict\u001b[0m\u001b[0;34m(\u001b[0m\u001b[0mself\u001b[0m\u001b[0;34m,\u001b[0m \u001b[0mX\u001b[0m\u001b[0;34m)\u001b[0m\u001b[0;34m:\u001b[0m\u001b[0;34m\u001b[0m\u001b[0;34m\u001b[0m\u001b[0m\n",
            "\u001b[0;32m/usr/local/lib/python3.7/dist-packages/sklearn/utils/extmath.py\u001b[0m in \u001b[0;36msafe_sparse_dot\u001b[0;34m(a, b, dense_output)\u001b[0m\n\u001b[1;32m    149\u001b[0m             \u001b[0mret\u001b[0m \u001b[0;34m=\u001b[0m \u001b[0mnp\u001b[0m\u001b[0;34m.\u001b[0m\u001b[0mdot\u001b[0m\u001b[0;34m(\u001b[0m\u001b[0ma\u001b[0m\u001b[0;34m,\u001b[0m \u001b[0mb\u001b[0m\u001b[0;34m)\u001b[0m\u001b[0;34m\u001b[0m\u001b[0;34m\u001b[0m\u001b[0m\n\u001b[1;32m    150\u001b[0m     \u001b[0;32melse\u001b[0m\u001b[0;34m:\u001b[0m\u001b[0;34m\u001b[0m\u001b[0;34m\u001b[0m\u001b[0m\n\u001b[0;32m--> 151\u001b[0;31m         \u001b[0mret\u001b[0m \u001b[0;34m=\u001b[0m \u001b[0ma\u001b[0m \u001b[0;34m@\u001b[0m \u001b[0mb\u001b[0m\u001b[0;34m\u001b[0m\u001b[0;34m\u001b[0m\u001b[0m\n\u001b[0m\u001b[1;32m    152\u001b[0m \u001b[0;34m\u001b[0m\u001b[0m\n\u001b[1;32m    153\u001b[0m     if (sparse.issparse(a) and sparse.issparse(b)\n",
            "\u001b[0;31mValueError\u001b[0m: matmul: Input operand 1 has a mismatch in its core dimension 0, with gufunc signature (n?,k),(k,m?)->(n?,m?) (size 5 is different from 4)"
          ]
        }
      ]
    },
    {
      "cell_type": "code",
      "metadata": {
        "id": "77tFp2GtBiRr"
      },
      "source": [
        "from sklearn.metrics import *\n",
        "from math import sqrt"
      ],
      "execution_count": null,
      "outputs": []
    },
    {
      "cell_type": "code",
      "metadata": {
        "id": "n9735FbrBodC"
      },
      "source": [
        "mse3 = mean_squared_error(y_test2, y_test_pred3)\n",
        "rmse3 = sqrt(mse3)\n",
        "print(mse3)\n",
        "print(rmse3)"
      ],
      "execution_count": null,
      "outputs": []
    },
    {
      "cell_type": "code",
      "metadata": {
        "id": "MFlQ6zUtEhVM"
      },
      "source": [
        "print(m4.intercept_)"
      ],
      "execution_count": null,
      "outputs": []
    },
    {
      "cell_type": "code",
      "metadata": {
        "id": "Exsxhs0fDX8a"
      },
      "source": [
        "list(zip(x2.columns, m4.coef_))"
      ],
      "execution_count": null,
      "outputs": []
    },
    {
      "cell_type": "code",
      "metadata": {
        "id": "3mfpYcT8GEgS"
      },
      "source": [
        "r2 = m4.score(x_test2,y_test2)\n",
        "print(f\"R^2 = {r2*100:.2f} %\")"
      ],
      "execution_count": null,
      "outputs": []
    },
    {
      "cell_type": "markdown",
      "metadata": {
        "id": "7teWn6hrLmQb"
      },
      "source": [
        "ข้อมูล model 2 จะได้ RMSE 5650.156471593312 R^2 = 78.01 %"
      ]
    },
    {
      "cell_type": "markdown",
      "metadata": {
        "id": "wbHN6_3zMSkk"
      },
      "source": [
        "ข้อมูล model 1 จะได้ RMSE 5673.529598758564 R^2 = 77.83 %"
      ]
    },
    {
      "cell_type": "markdown",
      "metadata": {
        "id": "slTMOGy_FVuN"
      },
      "source": [
        "# L2 - Ridge Regularization"
      ]
    },
    {
      "cell_type": "markdown",
      "metadata": {
        "id": "yOulbDloHxEX"
      },
      "source": [
        "feture selection จะตัดตัวแปรที่ไม่สำคัญออกไป สามารถกำหนด ให้ค่า ส.ป.ส. หน้า feature เป็น 0 ไม่ได้ แต่ใกล้เคียงได้"
      ]
    },
    {
      "cell_type": "code",
      "metadata": {
        "id": "9rj4NKOXEvVk"
      },
      "source": [
        "from sklearn.linear_model import Ridge"
      ],
      "execution_count": null,
      "outputs": []
    },
    {
      "cell_type": "code",
      "metadata": {
        "id": "fI0Dd6ERExLN"
      },
      "source": [
        "LR_L2 = Ridge() # alpha = 1"
      ],
      "execution_count": null,
      "outputs": []
    },
    {
      "cell_type": "code",
      "metadata": {
        "id": "vmZvCwg5E_YS"
      },
      "source": [
        "%%time\n",
        "m5 = LR_L2.fit(x_train2, y_train2)"
      ],
      "execution_count": null,
      "outputs": []
    },
    {
      "cell_type": "code",
      "metadata": {
        "id": "kO5cB7c1FEZc"
      },
      "source": [
        "%%time\n",
        "y_test_pred4 = LR_L2.predict(x_test2)"
      ],
      "execution_count": null,
      "outputs": []
    },
    {
      "cell_type": "code",
      "metadata": {
        "id": "Ru1G8As8FIVi"
      },
      "source": [
        "from sklearn.metrics import *\n",
        "from math import sqrt"
      ],
      "execution_count": null,
      "outputs": []
    },
    {
      "cell_type": "code",
      "metadata": {
        "id": "KMLpAuPaFJet"
      },
      "source": [
        "mse4 = mean_squared_error(y_test2, y_test_pred4)\n",
        "rmse4 = sqrt(mse4)\n",
        "print(mse4)\n",
        "print(rmse4)"
      ],
      "execution_count": null,
      "outputs": []
    },
    {
      "cell_type": "code",
      "metadata": {
        "id": "9-s4AIemFd5t"
      },
      "source": [
        "print(m5.intercept_)"
      ],
      "execution_count": null,
      "outputs": []
    },
    {
      "cell_type": "code",
      "metadata": {
        "id": "M7Aw_wK-FfNQ"
      },
      "source": [
        "list(zip(x2.columns, m5.coef_))"
      ],
      "execution_count": null,
      "outputs": []
    },
    {
      "cell_type": "code",
      "metadata": {
        "id": "E9FukNovGt25"
      },
      "source": [
        "r3 = m5.score(x_test2,y_test2)\n",
        "print(f\"R^2 = {r3*100:.2f} %\")"
      ],
      "execution_count": null,
      "outputs": []
    },
    {
      "cell_type": "markdown",
      "metadata": {
        "id": "OjTacoI4MpU0"
      },
      "source": [
        "ข้อมูล model 2 จะได้ RMSE 5647.745411401587 R^2 = 78.03 %"
      ]
    },
    {
      "cell_type": "markdown",
      "metadata": {
        "id": "62up8QDpM0FQ"
      },
      "source": [
        "ข้อมูล model 1 จะได้ RMSE 5670.70832725905 R^2 = 77.85 %"
      ]
    },
    {
      "cell_type": "markdown",
      "metadata": {
        "id": "iDBZUDKYIRqa"
      },
      "source": [
        "## Elastic Net (L1+L2)"
      ]
    },
    {
      "cell_type": "code",
      "metadata": {
        "id": "snn7uIevIQ2e"
      },
      "source": [
        "from sklearn.linear_model import ElasticNet"
      ],
      "execution_count": null,
      "outputs": []
    },
    {
      "cell_type": "code",
      "metadata": {
        "id": "-NezBQwPIUaU"
      },
      "source": [
        "LR_L1_L2 = ElasticNet(l1_ratio = 1) # alpha = 1"
      ],
      "execution_count": null,
      "outputs": []
    },
    {
      "cell_type": "code",
      "metadata": {
        "id": "VrIZuARgIzNq"
      },
      "source": [
        "%%time\n",
        "m6 = LR_L1_L2.fit(x_train2, y_train2)"
      ],
      "execution_count": null,
      "outputs": []
    },
    {
      "cell_type": "code",
      "metadata": {
        "id": "jw_dnxNYJIDE"
      },
      "source": [
        "%%time\n",
        "y_test_pred5 = LR_L1_L2.predict(x_test2)"
      ],
      "execution_count": null,
      "outputs": []
    },
    {
      "cell_type": "code",
      "metadata": {
        "id": "UH4vJwiuJe4w"
      },
      "source": [
        "from sklearn.metrics import *\n",
        "from math import sqrt"
      ],
      "execution_count": null,
      "outputs": []
    },
    {
      "cell_type": "code",
      "metadata": {
        "id": "ddC6ll-tJg14"
      },
      "source": [
        "mse5 = mean_squared_error(y_test2, y_test_pred5)\n",
        "rmse5 = sqrt(mse5)\n",
        "print(mse5)\n",
        "print(rmse5)"
      ],
      "execution_count": null,
      "outputs": []
    },
    {
      "cell_type": "code",
      "metadata": {
        "id": "b8yx49ViJtw5"
      },
      "source": [
        "r4 = m6.score(x_test2,y_test2)\n",
        "print(f\"R^2 = {r4*100:.2f} %\")"
      ],
      "execution_count": null,
      "outputs": []
    },
    {
      "cell_type": "code",
      "metadata": {
        "id": "xFb4Iw3JJo0O"
      },
      "source": [
        "print(m6.intercept_)"
      ],
      "execution_count": null,
      "outputs": []
    },
    {
      "cell_type": "code",
      "metadata": {
        "id": "-8ByViAIJqOW"
      },
      "source": [
        "list(zip(x2.columns, m6.coef_))"
      ],
      "execution_count": null,
      "outputs": []
    },
    {
      "cell_type": "markdown",
      "metadata": {
        "id": "wVXpQm7qNQO1"
      },
      "source": [
        "ข้อมูล model 2 จะได้ RMSE 5650.156471593312 R^2 = 78.01 %"
      ]
    },
    {
      "cell_type": "markdown",
      "metadata": {
        "id": "3gpnFFGxNTv5"
      },
      "source": [
        "ข้อมูล model 1 จะได้ RMSE 5673.529598758564 R^2 = 77.83 %"
      ]
    }
  ]
}